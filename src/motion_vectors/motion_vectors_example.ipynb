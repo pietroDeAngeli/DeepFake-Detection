{
 "cells": [
  {
   "cell_type": "code",
   "execution_count": 1,
   "id": "7c1d7507",
   "metadata": {},
   "outputs": [],
   "source": [
    "video_path = \"input3.mp4\""
   ]
  },
  {
   "cell_type": "code",
   "execution_count": null,
   "id": "b39937f6",
   "metadata": {},
   "outputs": [
    {
     "name": "stdout",
     "output_type": "stream",
     "text": [
      "Estratti MV da 122 frame, salvati in mvs.json\n"
     ]
    }
   ],
   "source": [
    "import av\n",
    "import json\n",
    "from av.sidedata.motionvectors import MotionVectors\n",
    "\n",
    "# 1) Apri il container e prendi lo stream video\n",
    "container = av.open(video_path)\n",
    "stream = container.streams.video[0]\n",
    "\n",
    "# 2) Imposta l'opzione per esportare i MV\n",
    "stream.codec_context.options = {\"flags2\": \"+export_mvs\"}\n",
    "\n",
    "all_flows = []\n",
    "\n",
    "# 3) Demux e decodi\n",
    "for packet in container.demux(stream):\n",
    "    for frame in packet.decode():\n",
    "        # 4) Itera su tutti i side-data e cattura i MotionVectors\n",
    "        for sd in frame.side_data:\n",
    "            if isinstance(sd, MotionVectors):\n",
    "                ts = float(frame.pts * frame.time_base)\n",
    "                vectors = [{\n",
    "                    \"source\": mv.source,\n",
    "                    \"w\": mv.w,\n",
    "                    \"h\": mv.h,\n",
    "                    \"src_x\": mv.src_x,\n",
    "                    \"src_y\": mv.src_y,\n",
    "                    \"dst_x\": mv.dst_x,\n",
    "                    \"dst_y\": mv.dst_y,\n",
    "                    \"motion_x\": mv.motion_x,\n",
    "                    \"motion_y\": mv.motion_y,\n",
    "                    \"motion_scale\": mv.motion_scale\n",
    "                } for mv in sd]\n",
    "                all_flows.append({\"time\": ts, \"motion_vectors\": vectors})\n",
    "\n",
    "# 5) Salva in JSON\n",
    "with open(\"mvs.json\", \"w\") as f:\n",
    "    json.dump(all_flows, f, indent=2)\n",
    "\n",
    "print(f\"Estratti MV da {len(all_flows)} frame, salvati in mvs.json\")\n"
   ]
  },
  {
   "cell_type": "code",
   "execution_count": null,
   "id": "ec5d2379",
   "metadata": {},
   "outputs": [
    {
     "name": "stdout",
     "output_type": "stream",
     "text": [
      "Estratti MV da 123 frame, salvati in mvs.json\n"
     ]
    }
   ],
   "source": [
    "import av\n",
    "import json\n",
    "from av.sidedata.sidedata import Type\n",
    "\n",
    "# 1) Apri il container e prendi lo stream video\n",
    "container = av.open(video_path)\n",
    "stream = container.streams.video[0]\n",
    "\n",
    "# 2) Imposta l'opzione per esportare i MV\n",
    "stream.codec_context.options = {\"flags2\": \"+export_mvs\"}\n",
    "\n",
    "all_flows = []\n",
    "\n",
    "# 3) Demux e decodi\n",
    "for packet in container.demux(stream):\n",
    "    for frame in packet.decode():\n",
    "\n",
    "        vectors = []\n",
    "        ts = float(frame.pts * frame.time_base)\n",
    "\n",
    "        mv_data = frame.side_data.get(Type.MOTION_VECTORS)\n",
    "        if mv_data:\n",
    "            for mv in mv_data:\n",
    "                vectors.append({\n",
    "                    \"source\": mv.source,\n",
    "                    \"w\": mv.w,\n",
    "                    \"h\": mv.h,\n",
    "                    \"src_x\": mv.src_x,\n",
    "                    \"src_y\": mv.src_y,\n",
    "                    \"dst_x\": mv.dst_x,\n",
    "                    \"dst_y\": mv.dst_y,\n",
    "                    \"motion_x\": mv.motion_x,\n",
    "                    \"motion_y\": mv.motion_y,\n",
    "                    \"motion_scale\": mv.motion_scale\n",
    "                })\n",
    "        \n",
    "        all_flows.append({\"time\": ts, \"motion_vectors\": vectors})\n",
    "\n",
    "# 5) Salva in JSON\n",
    "with open(\"mvs.json\", \"w\") as f:\n",
    "    json.dump(all_flows, f, indent=2)\n",
    "\n",
    "print(f\"Estratti MV da {len(all_flows)} frame, salvati in mvs.json\")\n"
   ]
  }
 ],
 "metadata": {
  "kernelspec": {
   "display_name": "DF_detection",
   "language": "python",
   "name": "python3"
  },
  "language_info": {
   "codemirror_mode": {
    "name": "ipython",
    "version": 3
   },
   "file_extension": ".py",
   "mimetype": "text/x-python",
   "name": "python",
   "nbconvert_exporter": "python",
   "pygments_lexer": "ipython3",
   "version": "3.10.18"
  }
 },
 "nbformat": 4,
 "nbformat_minor": 5
}
