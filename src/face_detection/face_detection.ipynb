{
 "cells": [
  {
   "cell_type": "code",
   "execution_count": 21,
   "id": "d6f3c2a2",
   "metadata": {},
   "outputs": [],
   "source": [
    "import cv2\n",
    "\n",
    "# Tools\n",
    "import numpy as np\n",
    "import matplotlib.pyplot as plt"
   ]
  },
  {
   "cell_type": "code",
   "execution_count": 80,
   "id": "24310818",
   "metadata": {},
   "outputs": [],
   "source": [
    "video_path = '../../FF++/fake/01_02__outside_talking_still_laughing__YVGY8LOK.mp4'\n",
    "max_faces = 10"
   ]
  },
  {
   "cell_type": "code",
   "execution_count": null,
   "id": "ffff1766",
   "metadata": {},
   "outputs": [],
   "source": [
    "\n",
    "cap = cv2.VideoCapture(video_path)\n",
    "\n",
    "detector = cv2.FaceDetectorYN.create(\n",
    "    model=\"face_detection_yunet_2023mar.onnx\",\n",
    "    config=\"\",\n",
    "    input_size=(1920, 1080),\n",
    ")"
   ]
  },
  {
   "cell_type": "code",
   "execution_count": null,
   "id": "ce7965fd",
   "metadata": {},
   "outputs": [
    {
     "name": "stdout",
     "output_type": "stream",
     "text": [
      "detected: 100.00% of frames\n"
     ]
    }
   ],
   "source": [
    "detected = 0\n",
    "total_frames = 0\n",
    "while True:\n",
    "    ret, frame = cap.read()\n",
    "    if not ret:\n",
    "        break\n",
    "    total_frames += 1\n",
    "\n",
    "    # 1) Imposta la dimensione per YuNet\n",
    "    h, w = frame.shape[:2]\n",
    "    detector.setInputSize((w, h))\n",
    "\n",
    "    # 2) Esegui la detection (BGR va benissimo)\n",
    "    num, faces_mat = detector.detect(frame)\n",
    "\n",
    "    bigger_face = None\n",
    "\n",
    "    if faces_mat is not None:\n",
    "        detected += 1\n",
    "    \n",
    "        # 3) Disegna i rettangoli su tutti i rilevamenti validi\n",
    "        for det in faces_mat[:int(num)]:\n",
    "            x, y, w_box, h_box = map(int, det[:4])\n",
    "            \n",
    "            if bigger_face is None or w_box * h_box > bigger_face['box'][2] * bigger_face['box'][3]:\n",
    "                bigger_face = {\n",
    "                    'box': (x, y, w_box, h_box),\n",
    "                }\n",
    "\n",
    "\n",
    "    # 4) Converti BGR→RGB per Matplotlib\n",
    "    frame_rgb = cv2.cvtColor(frame, cv2.COLOR_BGR2RGB)\n",
    "\n",
    "    # 5) Mostra l’immagine con il rettangolo\n",
    "    #plt.figure(figsize=(8, 5))\n",
    "    #plt.imshow(frame_rgb)\n",
    "    #plt.axis('off')\n",
    "    #plt.show()\n",
    "\n",
    "cap.release()\n",
    "\n",
    "print(f\"detected: {detected * 100 / total_frames:.2f}% of frames\")"
   ]
  }
 ],
 "metadata": {
  "kernelspec": {
   "display_name": "DF_detection",
   "language": "python",
   "name": "python3"
  },
  "language_info": {
   "codemirror_mode": {
    "name": "ipython",
    "version": 3
   },
   "file_extension": ".py",
   "mimetype": "text/x-python",
   "name": "python",
   "nbconvert_exporter": "python",
   "pygments_lexer": "ipython3",
   "version": "3.10.18"
  }
 },
 "nbformat": 4,
 "nbformat_minor": 5
}
